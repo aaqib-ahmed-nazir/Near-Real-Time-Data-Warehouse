{
 "cells": [
  {
   "cell_type": "markdown",
   "metadata": {},
   "source": [
    "# Data Preprocessing \n",
    "\n",
    "This notebook fixes the issue of multipile supplierID's for a single supplirName in the `products_data.csv` file. The issue is that the supplierID's are not unique for a single supplierName. This notebook fixes this issue by creating a new column `supplierID` which is unique for a single supplierName."
   ]
  },
  {
   "cell_type": "code",
   "execution_count": null,
   "metadata": {},
   "outputs": [],
   "source": [
    "!pip install pandas"
   ]
  },
  {
   "cell_type": "code",
   "execution_count": 24,
   "metadata": {},
   "outputs": [],
   "source": [
    "import pandas as pd"
   ]
  },
  {
   "cell_type": "code",
   "execution_count": 25,
   "metadata": {},
   "outputs": [],
   "source": [
    "path = r\"/Users/aaqibnazir/Documents/uni/DWH/AaqibAhmedNazir_22i1920_Project/src/data/products_data.csv\""
   ]
  },
  {
   "cell_type": "code",
   "execution_count": 26,
   "metadata": {},
   "outputs": [],
   "source": [
    "df = pd.read_csv(path)"
   ]
  },
  {
   "cell_type": "code",
   "execution_count": 27,
   "metadata": {},
   "outputs": [
    {
     "data": {
      "text/html": [
       "<div>\n",
       "<style scoped>\n",
       "    .dataframe tbody tr th:only-of-type {\n",
       "        vertical-align: middle;\n",
       "    }\n",
       "\n",
       "    .dataframe tbody tr th {\n",
       "        vertical-align: top;\n",
       "    }\n",
       "\n",
       "    .dataframe thead th {\n",
       "        text-align: right;\n",
       "    }\n",
       "</style>\n",
       "<table border=\"1\" class=\"dataframe\">\n",
       "  <thead>\n",
       "    <tr style=\"text-align: right;\">\n",
       "      <th></th>\n",
       "      <th>productID</th>\n",
       "      <th>productName</th>\n",
       "      <th>productPrice</th>\n",
       "      <th>supplierID</th>\n",
       "      <th>supplierName</th>\n",
       "      <th>storeID</th>\n",
       "      <th>storeName</th>\n",
       "    </tr>\n",
       "  </thead>\n",
       "  <tbody>\n",
       "    <tr>\n",
       "      <th>0</th>\n",
       "      <td>2</td>\n",
       "      <td>Dell XPS 13 Laptop</td>\n",
       "      <td>1299.99$</td>\n",
       "      <td>2</td>\n",
       "      <td>Dell Technologies</td>\n",
       "      <td>2</td>\n",
       "      <td>Tech Haven</td>\n",
       "    </tr>\n",
       "    <tr>\n",
       "      <th>1</th>\n",
       "      <td>21</td>\n",
       "      <td>DJI Mavic Air 2 Drone</td>\n",
       "      <td>799.99$</td>\n",
       "      <td>20</td>\n",
       "      <td>DJI</td>\n",
       "      <td>6</td>\n",
       "      <td>Photo World</td>\n",
       "    </tr>\n",
       "    <tr>\n",
       "      <th>2</th>\n",
       "      <td>29</td>\n",
       "      <td>AOC CQ32G1 Curved Gaming Monitor</td>\n",
       "      <td>349.99$</td>\n",
       "      <td>27</td>\n",
       "      <td>AOC International</td>\n",
       "      <td>4</td>\n",
       "      <td>Game Zone</td>\n",
       "    </tr>\n",
       "    <tr>\n",
       "      <th>3</th>\n",
       "      <td>11</td>\n",
       "      <td>LG OLED C1 4K TV</td>\n",
       "      <td>2499.99$</td>\n",
       "      <td>11</td>\n",
       "      <td>LG Electronics</td>\n",
       "      <td>1</td>\n",
       "      <td>Electro Mart</td>\n",
       "    </tr>\n",
       "    <tr>\n",
       "      <th>4</th>\n",
       "      <td>99</td>\n",
       "      <td>Jabra Elite 75t True Wireless Earbuds</td>\n",
       "      <td>149.99$</td>\n",
       "      <td>37</td>\n",
       "      <td>Jabra</td>\n",
       "      <td>3</td>\n",
       "      <td>Sound Zone</td>\n",
       "    </tr>\n",
       "  </tbody>\n",
       "</table>\n",
       "</div>"
      ],
      "text/plain": [
       "   productID                            productName productPrice  supplierID  \\\n",
       "0          2                     Dell XPS 13 Laptop     1299.99$           2   \n",
       "1         21                  DJI Mavic Air 2 Drone      799.99$          20   \n",
       "2         29       AOC CQ32G1 Curved Gaming Monitor      349.99$          27   \n",
       "3         11                       LG OLED C1 4K TV     2499.99$          11   \n",
       "4         99  Jabra Elite 75t True Wireless Earbuds      149.99$          37   \n",
       "\n",
       "        supplierName  storeID     storeName  \n",
       "0  Dell Technologies        2    Tech Haven  \n",
       "1                DJI        6   Photo World  \n",
       "2  AOC International        4     Game Zone  \n",
       "3     LG Electronics        1  Electro Mart  \n",
       "4              Jabra        3    Sound Zone  "
      ]
     },
     "execution_count": 27,
     "metadata": {},
     "output_type": "execute_result"
    }
   ],
   "source": [
    "df.head()"
   ]
  },
  {
   "cell_type": "code",
   "execution_count": 28,
   "metadata": {},
   "outputs": [
    {
     "data": {
      "text/plain": [
       "array(['Dell Technologies', 'DJI', 'AOC International', 'LG Electronics',\n",
       "       'Jabra', 'Acer Inc.', 'Lenovo Group', 'Google LLC', 'Corsair',\n",
       "       'Fujifilm Holdings Corporation', 'Logitech', 'Alienware (Dell)',\n",
       "       'ASUS', 'JBL', 'Canon Inc.', 'Apple Inc.',\n",
       "       'HyperX (Kingston Technology)', 'Fitbit Inc.', 'HP Inc.',\n",
       "       'Amazon.com, Inc.', 'Sony Corporation', 'OnePlus Technology',\n",
       "       'Bose Corporation', 'NVIDIA Corporation', 'Anker Innovations',\n",
       "       'Microsoft Corporation', 'MSI (Micro-Star International)',\n",
       "       'Ring (Amazon)', 'Nikon Corporation', 'SteelSeries', 'Sennheiser',\n",
       "       'ROCCAT (Turtle Beach)', 'Roku, Inc.', 'Beats by Dre (Apple Inc.)',\n",
       "       'Pakistan', 'GoPro Inc.', 'Samsung Electronics',\n",
       "       'Ultimate Ears (Logitech)', 'Garmin Ltd.', 'Razer Inc.',\n",
       "       'Sonos Inc.'], dtype=object)"
      ]
     },
     "execution_count": 28,
     "metadata": {},
     "output_type": "execute_result"
    }
   ],
   "source": [
    "# Check uqine values in supplier Name: \n",
    "df['supplierName'].unique()"
   ]
  },
  {
   "cell_type": "code",
   "execution_count": 29,
   "metadata": {},
   "outputs": [],
   "source": [
    "supplierName = df['supplierName'].unique()\n",
    "supplierID = range(1, len(supplierName)+1)\n",
    "supplier_dict = dict(zip(supplierName, supplierID))"
   ]
  },
  {
   "cell_type": "code",
   "execution_count": 30,
   "metadata": {},
   "outputs": [
    {
     "data": {
      "text/html": [
       "<div>\n",
       "<style scoped>\n",
       "    .dataframe tbody tr th:only-of-type {\n",
       "        vertical-align: middle;\n",
       "    }\n",
       "\n",
       "    .dataframe tbody tr th {\n",
       "        vertical-align: top;\n",
       "    }\n",
       "\n",
       "    .dataframe thead th {\n",
       "        text-align: right;\n",
       "    }\n",
       "</style>\n",
       "<table border=\"1\" class=\"dataframe\">\n",
       "  <thead>\n",
       "    <tr style=\"text-align: right;\">\n",
       "      <th></th>\n",
       "      <th>productID</th>\n",
       "      <th>productName</th>\n",
       "      <th>productPrice</th>\n",
       "      <th>supplierID</th>\n",
       "      <th>supplierName</th>\n",
       "      <th>storeID</th>\n",
       "      <th>storeName</th>\n",
       "    </tr>\n",
       "  </thead>\n",
       "  <tbody>\n",
       "    <tr>\n",
       "      <th>0</th>\n",
       "      <td>2</td>\n",
       "      <td>Dell XPS 13 Laptop</td>\n",
       "      <td>1299.99$</td>\n",
       "      <td>2</td>\n",
       "      <td>Dell Technologies</td>\n",
       "      <td>2</td>\n",
       "      <td>Tech Haven</td>\n",
       "    </tr>\n",
       "    <tr>\n",
       "      <th>1</th>\n",
       "      <td>21</td>\n",
       "      <td>DJI Mavic Air 2 Drone</td>\n",
       "      <td>799.99$</td>\n",
       "      <td>20</td>\n",
       "      <td>DJI</td>\n",
       "      <td>6</td>\n",
       "      <td>Photo World</td>\n",
       "    </tr>\n",
       "    <tr>\n",
       "      <th>2</th>\n",
       "      <td>29</td>\n",
       "      <td>AOC CQ32G1 Curved Gaming Monitor</td>\n",
       "      <td>349.99$</td>\n",
       "      <td>27</td>\n",
       "      <td>AOC International</td>\n",
       "      <td>4</td>\n",
       "      <td>Game Zone</td>\n",
       "    </tr>\n",
       "    <tr>\n",
       "      <th>3</th>\n",
       "      <td>11</td>\n",
       "      <td>LG OLED C1 4K TV</td>\n",
       "      <td>2499.99$</td>\n",
       "      <td>11</td>\n",
       "      <td>LG Electronics</td>\n",
       "      <td>1</td>\n",
       "      <td>Electro Mart</td>\n",
       "    </tr>\n",
       "    <tr>\n",
       "      <th>4</th>\n",
       "      <td>99</td>\n",
       "      <td>Jabra Elite 75t True Wireless Earbuds</td>\n",
       "      <td>149.99$</td>\n",
       "      <td>37</td>\n",
       "      <td>Jabra</td>\n",
       "      <td>3</td>\n",
       "      <td>Sound Zone</td>\n",
       "    </tr>\n",
       "  </tbody>\n",
       "</table>\n",
       "</div>"
      ],
      "text/plain": [
       "   productID                            productName productPrice  supplierID  \\\n",
       "0          2                     Dell XPS 13 Laptop     1299.99$           2   \n",
       "1         21                  DJI Mavic Air 2 Drone      799.99$          20   \n",
       "2         29       AOC CQ32G1 Curved Gaming Monitor      349.99$          27   \n",
       "3         11                       LG OLED C1 4K TV     2499.99$          11   \n",
       "4         99  Jabra Elite 75t True Wireless Earbuds      149.99$          37   \n",
       "\n",
       "        supplierName  storeID     storeName  \n",
       "0  Dell Technologies        2    Tech Haven  \n",
       "1                DJI        6   Photo World  \n",
       "2  AOC International        4     Game Zone  \n",
       "3     LG Electronics        1  Electro Mart  \n",
       "4              Jabra        3    Sound Zone  "
      ]
     },
     "execution_count": 30,
     "metadata": {},
     "output_type": "execute_result"
    }
   ],
   "source": [
    "df.head()"
   ]
  },
  {
   "cell_type": "code",
   "execution_count": null,
   "metadata": {},
   "outputs": [],
   "source": [
    "df.to_csv(r\"/Users/aaqibnazir/Documents/uni/DWH/AaqibAhmedNazir_22i1920_Project/src/data/products_data.csv\", index=False)"
   ]
  }
 ],
 "metadata": {
  "kernelspec": {
   "display_name": ".venv",
   "language": "python",
   "name": "python3"
  },
  "language_info": {
   "codemirror_mode": {
    "name": "ipython",
    "version": 3
   },
   "file_extension": ".py",
   "mimetype": "text/x-python",
   "name": "python",
   "nbconvert_exporter": "python",
   "pygments_lexer": "ipython3",
   "version": "3.12.7"
  }
 },
 "nbformat": 4,
 "nbformat_minor": 2
}
